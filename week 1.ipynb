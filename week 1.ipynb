{
 "cells": [
  {
   "cell_type": "markdown",
   "metadata": {},
   "source": [
    " <a href=\"https://colab.research.google.com/github/dmorton714/Code-You_assginments/blob/main/Week_1.ipynb\" target=\"_parent\"><img src=\"https://colab.research.google.com/assets/colab-badge.svg\" alt=\"Open In Colab\"/></a>"
   ]
  },
  {
   "cell_type": "markdown",
   "metadata": {},
   "source": [
    " # Assignment 1\n",
    "\n",
    "\n",
    "\n",
    " - [Variables](#Variables)\n",
    "\n",
    " - [Data Types](#Data_Types)\n",
    "\n",
    " - [Conditionals](#Conditionals)\n",
    "\n",
    " - [Links](#Links)"
   ]
  },
  {
   "cell_type": "markdown",
   "metadata": {},
   "source": [
    " <a id=\"Variables\"></a>\n",
    "\n",
    " ## Variables"
   ]
  },
  {
   "cell_type": "markdown",
   "metadata": {},
   "source": [
    " In the code block below assign 40 to A.\n",
    "\n",
    " <br>\n",
    "\n",
    " Run the cell to verify your work."
   ]
  },
  {
   "cell_type": "code",
   "execution_count": 1,
   "metadata": {},
   "outputs": [],
   "source": [
    "# %%\n",
    "A = 40        \n"
   ]
  },
  {
   "cell_type": "markdown",
   "metadata": {},
   "source": [
    " Now assign 60 to B.\n",
    "\n",
    " <br>\n",
    "\n",
    " Run the cell to verify your work."
   ]
  },
  {
   "cell_type": "code",
   "execution_count": 2,
   "metadata": {},
   "outputs": [],
   "source": [
    "# %%\n",
    "B = 60\n"
   ]
  },
  {
   "cell_type": "markdown",
   "metadata": {},
   "source": [
    " We have now defined 2 variables. We have assigned values for A and B.\n",
    "\n",
    " <br>\n",
    "\n",
    " Now we are going to do some basic math.\n",
    "\n",
    " - Add the 2 variables together and run the cell.\n",
    "\n",
    "\n",
    "\n",
    " **Inside a notebook you don't have to use the print function. You can just add the variables and run the cell**"
   ]
  },
  {
   "cell_type": "code",
   "execution_count": 3,
   "metadata": {},
   "outputs": [
    {
     "data": {
      "text/plain": [
       "100"
      ]
     },
     "execution_count": 3,
     "metadata": {},
     "output_type": "execute_result"
    }
   ],
   "source": [
    "# %%\n",
    "A + B \n"
   ]
  },
  {
   "cell_type": "markdown",
   "metadata": {},
   "source": [
    " Now let's subtract the 2 variables and run the cell."
   ]
  },
  {
   "cell_type": "code",
   "execution_count": 4,
   "metadata": {},
   "outputs": [
    {
     "data": {
      "text/plain": [
       "-20"
      ]
     },
     "execution_count": 4,
     "metadata": {},
     "output_type": "execute_result"
    }
   ],
   "source": [
    "# %%\n",
    "A - B\n"
   ]
  },
  {
   "cell_type": "markdown",
   "metadata": {},
   "source": [
    " In python code reads top to bottom and left to right. So if we reassign B to 40 it will be 40 until we change it to something else.\n",
    "\n",
    "\n",
    "\n",
    " *This means it's important to name variables with good names so you don't reuse them.*\n",
    "\n",
    "\n",
    "\n",
    "\n",
    "\n",
    " ---\n",
    "\n",
    "\n",
    "\n"
   ]
  },
  {
   "cell_type": "markdown",
   "metadata": {},
   "source": [
    " <a id=\"#Data_Types\"></a>\n",
    "\n",
    " ## Data Types"
   ]
  },
  {
   "cell_type": "markdown",
   "metadata": {},
   "source": [
    " | Example\t| Data Type\t|\n",
    "\n",
    " | --- | ---|\n",
    "\n",
    " | x = \"Hello World\"\t| str |\n",
    "\n",
    " | x = 20\t| int |\n",
    "\n",
    " | x = 20.5 | float |\n",
    "\n",
    " | x = [\"apple\", \"banana\", \"cherry\"] | list |\n",
    "\n",
    " | x = (\"apple\", \"banana\", \"cherry\") | tuple |\n",
    "\n",
    " | x = range(6) | range |\n",
    "\n",
    " | x = {\"name\" : \"John\", \"age\" : 36} | dict |\n",
    "\n",
    " | x = True | bool |"
   ]
  },
  {
   "cell_type": "markdown",
   "metadata": {},
   "source": [
    " By default python will make an attempt to assign the proper data type to a value.\n",
    "\n",
    " It doesn't always get it right, so in good practice you can assign the type when you define the variable.\n",
    "\n",
    " <br>\n",
    "\n",
    " <br>\n",
    "\n",
    " - Assign A as an int with the value of 40.\n",
    "\n",
    " - You assign types by using the type and parentheses\n",
    "\n",
    " - Here we will use `int()`\n",
    "\n",
    " - you put your value inside the parentheses"
   ]
  },
  {
   "cell_type": "code",
   "execution_count": 5,
   "metadata": {},
   "outputs": [],
   "source": [
    "# %%\n",
    "A = int(40)\n"
   ]
  },
  {
   "cell_type": "markdown",
   "metadata": {},
   "source": [
    " we will use the `type()` function to verify we did it correctly."
   ]
  },
  {
   "cell_type": "code",
   "execution_count": 6,
   "metadata": {},
   "outputs": [
    {
     "name": "stdout",
     "output_type": "stream",
     "text": [
      "<class 'int'>\n"
     ]
    }
   ],
   "source": [
    "# %%\n",
    "print(type(A))\n"
   ]
  },
  {
   "cell_type": "markdown",
   "metadata": {},
   "source": [
    " Using what we learned:\n",
    "\n",
    " - convert B to a float and assign its value to 60.\n",
    "\n",
    " - print the B to see if it looks different"
   ]
  },
  {
   "cell_type": "code",
   "execution_count": 7,
   "metadata": {},
   "outputs": [],
   "source": [
    "# %%\n",
    "B = float (60)\n"
   ]
  },
  {
   "cell_type": "markdown",
   "metadata": {},
   "source": [
    " Now use the type function again to verify its type."
   ]
  },
  {
   "cell_type": "code",
   "execution_count": 8,
   "metadata": {},
   "outputs": [
    {
     "name": "stdout",
     "output_type": "stream",
     "text": [
      "<class 'float'>\n"
     ]
    }
   ],
   "source": [
    "# %%\n",
    "print(type(B))\n"
   ]
  },
  {
   "cell_type": "markdown",
   "metadata": {},
   "source": [
    " Let's now add A and B together.\n",
    "\n",
    "\n",
    "\n",
    " But do this by assigning A+B to the variable C."
   ]
  },
  {
   "cell_type": "code",
   "execution_count": 9,
   "metadata": {},
   "outputs": [
    {
     "data": {
      "text/plain": [
       "100.0"
      ]
     },
     "execution_count": 9,
     "metadata": {},
     "output_type": "execute_result"
    }
   ],
   "source": [
    "# %%\n",
    "C = A + B\n",
    "C\n"
   ]
  },
  {
   "cell_type": "markdown",
   "metadata": {},
   "source": [
    " Let's also get the returned type of C."
   ]
  },
  {
   "cell_type": "code",
   "execution_count": 10,
   "metadata": {},
   "outputs": [
    {
     "name": "stdout",
     "output_type": "stream",
     "text": [
      "<class 'float'>\n"
     ]
    }
   ],
   "source": [
    "# %%\n",
    "print(type(C))\n"
   ]
  },
  {
   "cell_type": "markdown",
   "metadata": {},
   "source": [
    " As you can see it's a float python did the work for us on assigning its type based on the variables. If we wanted an `int` returned we would need to assign it.\n",
    "\n",
    "\n",
    "\n",
    "\n",
    "\n",
    " ---\n",
    "\n",
    "\n",
    "\n"
   ]
  },
  {
   "cell_type": "markdown",
   "metadata": {},
   "source": [
    " <a id=\"Conditionals\"></a>\n",
    "\n",
    " ## Conditionals\n",
    "\n",
    "\n",
    "\n",
    " | Conditional | Example |\n",
    "\n",
    " | :--- | --- |\n",
    "\n",
    " |Equals: | a == b |\n",
    "\n",
    " |Not Equals: | a != b |\n",
    "\n",
    " |Less than: | a < b |\n",
    "\n",
    " |Less than or equal to: | a <= b |\n",
    "\n",
    " |Greater than: | a > b |\n",
    "\n",
    " |Greater than or equal to: | a >= b |\n",
    "\n"
   ]
  },
  {
   "cell_type": "markdown",
   "metadata": {},
   "source": [
    " Conditionals will be important in the Data Analytics aspect. We will get started with some basic conditionals using our variables from above."
   ]
  },
  {
   "cell_type": "code",
   "execution_count": 11,
   "metadata": {},
   "outputs": [],
   "source": [
    "# %%\n",
    "if A > B:\n",
    "  print(\"A is greater than B\")\n"
   ]
  },
  {
   "cell_type": "markdown",
   "metadata": {},
   "source": [
    " Notice we did **not** get an error message because B is greater than A.\n",
    "\n",
    " <br>\n",
    "\n",
    " <br>\n",
    "\n",
    " A = 40\n",
    "\n",
    " <br>\n",
    "\n",
    " B = 60\n",
    "\n",
    " <br>\n",
    "\n",
    " <br>\n",
    "\n",
    " Use the same code as above and flip the variables. Be sure to edit the print statement to make it correct."
   ]
  },
  {
   "cell_type": "code",
   "execution_count": 12,
   "metadata": {},
   "outputs": [
    {
     "name": "stdout",
     "output_type": "stream",
     "text": [
      "B is greater than A\n"
     ]
    }
   ],
   "source": [
    "# %%\n",
    "if B > A:\n",
    "  print(\"B is greater than A\")\n"
   ]
  },
  {
   "cell_type": "markdown",
   "metadata": {},
   "source": [
    " To be more efficient we can combine them into one code block.\n",
    "\n",
    "\n",
    "\n",
    " -So let's add an `else:` condition to do this in one block of code."
   ]
  },
  {
   "cell_type": "code",
   "execution_count": 13,
   "metadata": {},
   "outputs": [
    {
     "name": "stdout",
     "output_type": "stream",
     "text": [
      "B is greater than A\n"
     ]
    }
   ],
   "source": [
    "# %%\n",
    "if A > B:\n",
    "  print(\"A is greater than B\")\n",
    "else:\n",
    "  print(\"B is greater than A\")\n"
   ]
  },
  {
   "cell_type": "markdown",
   "metadata": {},
   "source": [
    " This is a step up but, what happens if A and B are the same value?\n",
    "\n",
    " - Lets correct our code by covering that hole.\n",
    "\n",
    " - We will add a `elif A == B:` condition between the `if` and `else:`"
   ]
  },
  {
   "cell_type": "code",
   "execution_count": 14,
   "metadata": {},
   "outputs": [
    {
     "name": "stdout",
     "output_type": "stream",
     "text": [
      "B is greater than A\n"
     ]
    }
   ],
   "source": [
    "# %%\n",
    "if A > B:\n",
    "  print(\"A is greater than B\")\n",
    "elif A == B:\n",
    "  print(\"A is equal to B\")\n",
    "else:\n",
    "  print(\"B is greater than A\")\n"
   ]
  },
  {
   "cell_type": "markdown",
   "metadata": {},
   "source": [
    " **This will verify your work and tell you if you have errors in your code.**"
   ]
  },
  {
   "cell_type": "code",
   "execution_count": 15,
   "metadata": {},
   "outputs": [
    {
     "name": "stdout",
     "output_type": "stream",
     "text": [
      "B is greater than A\n"
     ]
    }
   ],
   "source": [
    "# %%\n",
    "def conditionals(A, B):\n",
    "  if A > B:\n",
    "    print(\"A is greater than B\")\n",
    "  elif A == B:\n",
    "    print(\"A is equal to B\")\n",
    "  else:\n",
    "    print(\"B is greater than A\")\n",
    "\n",
    "A = 50\n",
    "B = 60  \n",
    "conditionals(A, B)\n"
   ]
  },
  {
   "cell_type": "markdown",
   "metadata": {},
   "source": [
    " Let's put everything we learned together:\n",
    "\n",
    " - Define a value the variables **X** & **Y**\n",
    "\n",
    " - Make sure they are assigned as an `int`\n",
    "\n",
    " - Then replicate the if, elif, and else statement\n",
    "\n",
    " - Once you have it working, change the values of **X** & **Y** to verify your code is working correctly."
   ]
  },
  {
   "cell_type": "code",
   "execution_count": 16,
   "metadata": {},
   "outputs": [
    {
     "name": "stdout",
     "output_type": "stream",
     "text": [
      "X is equal to Y\n"
     ]
    }
   ],
   "source": [
    "# %%\n",
    "X = int(2)\n",
    "Y = int(2)\n",
    "\n",
    "if X > Y:\n",
    "  print(\"X is greater than Y\")\n",
    "elif X == Y:\n",
    "  print(\"X is equal to Y\")\n",
    "else:\n",
    "  print(\"Y is greater than X\")\n"
   ]
  },
  {
   "cell_type": "markdown",
   "metadata": {},
   "source": [
    " <a id=\"Links\"></a>\n",
    "\n",
    " ## Links\n",
    "\n",
    "\n",
    "\n",
    " [Variables](https://www.w3schools.com/python/python_variables.asp)\n",
    "\n",
    " <br>\n",
    "\n",
    " [Data Types](https://www.w3schools.com/python/python_datatypes.asp)\n",
    "\n",
    " <br>\n",
    "\n",
    " [Conditions](https://www.w3schools.com/python/python_conditions.asp)"
   ]
  },
  {
   "cell_type": "markdown",
   "metadata": {},
   "source": [
    " ## What we learned recap\n",
    "\n",
    "\n",
    "\n",
    " Variables, data types, and conditionals are fundamental concepts in Python programming that serve as building blocks for more advanced tasks, including data analytics. Here's a brief overview of why these concepts are important and how they relate to learning data analytics:\n",
    "\n",
    "\n",
    "\n",
    " - Variables: Variables are used to store and manipulate data in a program. They provide a way to label and reference values or objects, making it easier to work with data. In data analytics, variables are essential for storing datasets, intermediate results, and analysis outputs. Understanding variables allows analysts to organize and manage data effectively during the analysis process.\n",
    "\n",
    "\n",
    "\n",
    " - Data Types: Python supports various data types, including integers, floats, strings, lists, tuples, dictionaries, and more. Each data type has unique properties and behaviors, enabling programmers to represent different kinds of information. In data analytics, knowing how to work with different data types is crucial for processing and analyzing diverse datasets. For example, numeric data types are used for quantitative analysis, while string and categorical data types are common in text analysis and classification tasks.\n",
    "\n",
    "\n",
    "\n",
    " - Conditionals: Conditionals, such as if statements and loops, allow programmers to control the flow of execution based on specified conditions. They enable decision-making and branching in code, allowing different actions to be taken depending on the circumstances. In data analytics, conditionals are used to implement logic for data filtering, ect.\n",
    "\n",
    "\n",
    "\n",
    " Understanding variables, data types, and conditionals in Python lays the groundwork for proficiency in data analytics. Aspiring data analysts can leverage these concepts to manipulate datasets, perform data cleaning and preprocessing, and extract insights from data."
   ]
  },
  {
   "cell_type": "markdown",
   "metadata": {},
   "source": [
    "\n",
    "\n",
    "\n",
    "\n",
    " ---\n",
    "\n",
    "\n",
    "\n",
    " # END\n",
    "\n",
    "\n",
    "\n",
    "\n",
    "\n",
    "\n",
    "\n",
    " ---\n",
    "\n",
    "\n",
    "\n"
   ]
  }
 ],
 "metadata": {
  "kernelspec": {
   "display_name": "Python 3",
   "language": "python",
   "name": "python3"
  },
  "language_info": {
   "codemirror_mode": {
    "name": "ipython",
    "version": 3
   },
   "file_extension": ".py",
   "mimetype": "text/x-python",
   "name": "python",
   "nbconvert_exporter": "python",
   "pygments_lexer": "ipython3",
   "version": "3.12.4"
  }
 },
 "nbformat": 4,
 "nbformat_minor": 2
}
