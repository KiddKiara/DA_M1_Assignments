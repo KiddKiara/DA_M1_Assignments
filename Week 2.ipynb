{
 "cells": [
  {
   "cell_type": "markdown",
   "metadata": {},
   "source": [
    " <a href=\"https://colab.research.google.com/github/dmorton714/Code-You_assginments/blob/main/Week_2.ipynb\" target=\"_parent\"><img src=\"https://colab.research.google.com/assets/colab-badge.svg\" alt=\"Open In Colab\"/></a>"
   ]
  },
  {
   "cell_type": "markdown",
   "metadata": {},
   "source": [
    " # Assignment 2\n",
    "\n",
    "\n",
    "\n",
    " - [Lists](#Lists)\n",
    "\n",
    " - [For Loops](#For_Loops)\n",
    "\n",
    " - [Slicing](#Slicking)\n",
    "\n",
    " - [Links](#Links)"
   ]
  },
  {
   "cell_type": "markdown",
   "metadata": {},
   "source": [
    " <a id=\"Lists\"></a>\n",
    "\n",
    " ## Lists"
   ]
  },
  {
   "cell_type": "markdown",
   "metadata": {},
   "source": [
    " Lists are used to store multiple items in a single variable.\n",
    "\n",
    "\n",
    "\n",
    " Lists are 1 of 4 built-in data types in Python used to store collections of data. They all have different qualities and usage.\n",
    "\n",
    " The others are:\n",
    "\n",
    "  - Tuple\n",
    "\n",
    "  - Sets\n",
    "\n",
    "  - Dictionary"
   ]
  },
  {
   "cell_type": "markdown",
   "metadata": {},
   "source": [
    " First lets review a little from last week.\n",
    "\n",
    " - Make a variable `A` `B` `C`\n",
    "\n",
    " - Assign them the values `1` `2` `3`\n",
    "\n",
    " - Make `A` a `Float`\n",
    "\n",
    " - `B` & `C` an `int`"
   ]
  },
  {
   "cell_type": "code",
   "execution_count": null,
   "metadata": {},
   "outputs": [],
   "source": [
    "# %%\n",
    "A = float(1)\n",
    "B = int(2)\n",
    "C = int(3)\n"
   ]
  },
  {
   "cell_type": "markdown",
   "metadata": {},
   "source": [
    " Now Let's put `A` `B` `C` into a list named `[]` `my_list`\n",
    "\n",
    " <br>\n",
    "\n",
    " `print()` your list to verify it is correct."
   ]
  },
  {
   "cell_type": "code",
   "execution_count": null,
   "metadata": {},
   "outputs": [],
   "source": [
    "# %%\n",
    "my_list = [A, B, C]\n",
    "print(my_list)\n"
   ]
  },
  {
   "cell_type": "markdown",
   "metadata": {},
   "source": [
    " As you can see it printed the values we stored in `A` `B` `C`.\n",
    "\n",
    " <br>\n",
    "\n",
    " As you can see lists can store just about anything.\n",
    "\n",
    "\n",
    "\n",
    " - Integers: Whole numbers without any decimal point, such as 1, 42, -10.\n",
    "\n",
    " - Floats: Real numbers with a decimal point, such as 3.14, 2.718, -0.5.\n",
    "\n",
    " - Strings: Textual data enclosed in single (') or double (\") quotes, such as 'hello', \"Python\", '123'.\n",
    "\n",
    " - Booleans: Logical values representing either `True` or `False`.\n",
    "\n",
    " - Other Lists: Lists can contain other lists as elements, allowing for nested data structures.\n",
    "\n",
    " - Tuples: Immutable sequences of elements, similar to lists but enclosed in parentheses (()).\n",
    "\n",
    " - Dictionaries: Key-value pairs enclosed in curly braces ({}), allowing for mapping between keys and values.\n",
    "\n",
    " - Sets: Unordered collections of unique elements, enclosed in curly braces ({}), useful for operations like union, intersection, and difference.\n",
    "\n",
    "\n",
    "\n",
    " **example below of each**\n",
    "\n",
    "\n",
    "\n",
    " ``` python\n",
    "\n",
    " my_list = [1, 3.14, 'hello', True, [5, 6], (7, 8), {'name': 'Alice', 'age': 30}, {1, 2, 3}]\n",
    "\n",
    "\n",
    "\n",
    " ```"
   ]
  },
  {
   "cell_type": "markdown",
   "metadata": {},
   "source": [
    " Let's not explore a couple other things we can do with a list.\n",
    "\n",
    "\n",
    "\n",
    " - Let's get the length of `my_list`\n",
    "\n",
    " - use the `len()` function to this"
   ]
  },
  {
   "cell_type": "code",
   "execution_count": null,
   "metadata": {},
   "outputs": [],
   "source": [
    "# %%\n",
    "len(my_list)\n"
   ]
  },
  {
   "cell_type": "markdown",
   "metadata": {},
   "source": [
    " We can also use the  `type()` function on the list.\n",
    "\n",
    "\n",
    "\n",
    " If we do this to the list itself it will return that it is a list. <br> More importantly we can find the type of a particular item in the list.\n",
    "\n",
    "\n",
    "\n",
    " - Use the `type()` function on `my_list`\n",
    "\n",
    " - use `[]` square brackets to find the values type in index `1`"
   ]
  },
  {
   "cell_type": "code",
   "execution_count": null,
   "metadata": {},
   "outputs": [],
   "source": [
    "# %%\n",
    "type(my_list[1])\n"
   ]
  },
  {
   "cell_type": "markdown",
   "metadata": {},
   "source": [
    " In Python, indexing is zero-based, which means that the first element in a sequence has an index of 0, the second element has an index of 1, and so on. This applies to lists, tuples, strings, and other ordered collections.\n",
    "\n"
   ]
  },
  {
   "cell_type": "code",
   "execution_count": null,
   "metadata": {},
   "outputs": [],
   "source": [
    "# %%\n",
    "print(my_list[0])  # Output: 1.0\n",
    "print(my_list[1])  # Output: 2\n",
    "print(my_list[2])  # Output: 3\n"
   ]
  },
  {
   "cell_type": "markdown",
   "metadata": {},
   "source": [
    "\n",
    "\n",
    "\n",
    "\n",
    " ---\n",
    "\n",
    "\n",
    "\n"
   ]
  },
  {
   "cell_type": "markdown",
   "metadata": {},
   "source": [
    " <a id=\"#For_Loops\"></a>\n",
    "\n",
    " ## For Loops"
   ]
  },
  {
   "cell_type": "markdown",
   "metadata": {},
   "source": [
    " A `for` loop is used for iterating over a sequence.\n",
    "\n",
    "\n",
    "\n",
    " That is either a:\n",
    "\n",
    " - list\n",
    "\n",
    " - tuple\n",
    "\n",
    " - dictionary\n",
    "\n",
    " - set\n",
    "\n",
    " - string"
   ]
  },
  {
   "cell_type": "markdown",
   "metadata": {},
   "source": [
    " Let's make a for loop to print `my_list`\n",
    "\n",
    " - start with `for number in my_list:`.\n",
    "\n",
    " - `for number in my_list:` is the line that starts the loop. It means \"for each number in my_list, do something\".\n",
    "\n",
    " - Then hit enter at the end of the line.\n",
    "\n",
    " - On the next like type `print(number)`\n",
    "\n",
    " - `print(number)` is the indented line inside the loop. It gets executed for each number in my_list.\n",
    "\n",
    " - It then prints each number to the screen.\n",
    "\n"
   ]
  },
  {
   "cell_type": "code",
   "execution_count": null,
   "metadata": {},
   "outputs": [],
   "source": [
    "# %%\n",
    "for number in my_list:\n",
    "  print(number)\n"
   ]
  },
  {
   "cell_type": "markdown",
   "metadata": {},
   "source": [
    " Building off last week let's add a conditional to the for loop.\n",
    "\n",
    " Let's add the conditional of if a number is equal to 3 we will break the loop.\n",
    "\n",
    "\n",
    "\n",
    " - Copy your loop from above\n",
    "\n",
    " - Make a new line after the `for` statement and above `print`\n",
    "\n",
    " - Add the argument `if number == 3:`\n",
    "\n",
    " - on a line under that indent and put `break`\n",
    "\n",
    " - `if` and `print` should be indented one space\n",
    "\n",
    " - `break` should be 2 spaces"
   ]
  },
  {
   "cell_type": "code",
   "execution_count": null,
   "metadata": {},
   "outputs": [],
   "source": [
    "# %%\n",
    "for number in my_list:\n",
    "  if number == 3:\n",
    "    break\n",
    "  print(number)\n"
   ]
  },
  {
   "cell_type": "markdown",
   "metadata": {},
   "source": [
    " Here is a practical application of a `for loop` used to Validate a user's name. It verifies they didn't add any symbols. Then will say hello to them."
   ]
  },
  {
   "cell_type": "code",
   "execution_count": null,
   "metadata": {},
   "outputs": [],
   "source": [
    "# %%\n",
    "# Maximum number of attempts\n",
    "max_attempts = 3\n",
    "\n",
    "# Ask the user for their name and validates the input\n",
    "for _ in range(max_attempts):\n",
    "    users_name = input(\"Please enter your name and hit enter when finished: \")\n",
    "    if users_name.replace(\" \", \"\").isalpha():\n",
    "        print(\"Hello\", users_name)\n",
    "        break\n",
    "    else:\n",
    "        print(\"Invalid input. Please enter only alphabetic characters and spaces.\")\n",
    "else:\n",
    "    print(\"Maximum attempts reached. Please try again later.\")\n"
   ]
  },
  {
   "cell_type": "markdown",
   "metadata": {},
   "source": [
    " While for loops may seem complex at first glance, breaking them down into smaller pieces makes them more manageable and easier to understand.\n",
    "\n",
    "\n",
    "\n",
    " ---\n",
    "\n",
    "\n",
    "\n"
   ]
  },
  {
   "cell_type": "markdown",
   "metadata": {},
   "source": [
    " <a id=\"Slicing\"></a>\n",
    "\n",
    " ## Slicing\n",
    "\n"
   ]
  },
  {
   "cell_type": "markdown",
   "metadata": {},
   "source": [
    " Sometimes you don't want to use all the data in a list dictionary ect. So sometimes we take a slice of that data.\n",
    "\n",
    " - We will use `my_list` for our example\n",
    "\n",
    " - we use the `[]` square brackets to slice the data\n",
    "\n",
    " - we will also use `:` a colon between the numbers\n",
    "\n",
    " - slice `my_list` from `[0:1]`\n",
    "\n",
    " - Print the slice"
   ]
  },
  {
   "cell_type": "code",
   "execution_count": null,
   "metadata": {},
   "outputs": [],
   "source": [
    "# %%\n",
    "print(my_list[0:1])\n"
   ]
  },
  {
   "cell_type": "markdown",
   "metadata": {},
   "source": [
    " You can also take slices from words or sentences.\n",
    "\n",
    " - Assign this sentence to the variable fox:\n",
    "\n",
    "   - The quick brown fox jumps over the lazy dog\n",
    "\n",
    " - Print the index of  3-15."
   ]
  },
  {
   "cell_type": "code",
   "execution_count": null,
   "metadata": {},
   "outputs": [],
   "source": [
    "# %%\n",
    "fox = \"The quick brown fox jumps over the lazy dog\"\n",
    "print(fox[3:15])\n"
   ]
  },
  {
   "cell_type": "markdown",
   "metadata": {},
   "source": [
    " <a id=\"Links\"></a>\n",
    "\n",
    " ## Links\n",
    "\n",
    "\n",
    "\n",
    " [Lists](https://www.w3schools.com/python/python_lists.asp)\n",
    "\n",
    " <br>\n",
    "\n",
    " [For Loops](https://www.w3schools.com/python/python_for_loops.asp)\n",
    "\n",
    " <br>\n",
    "\n",
    " [Slice](https://www.w3schools.com/python/python_strings_slicing.asp)"
   ]
  },
  {
   "cell_type": "markdown",
   "metadata": {},
   "source": [
    " ## Recap\n",
    "\n",
    "\n",
    "\n",
    " ### Lists:\n",
    "\n",
    " Lists are fundamental data structures in Python used to store collections of items. They allow us to group related data together, making it easier to manage and manipulate large sets of information. With lists, we can store different data types, including numbers, strings, and even other lists. This flexibility enables us to represent complex data structures in a simple and intuitive way. Lists are essential because they provide a versatile way to organize and access data, making them a cornerstone of Python programming.\n",
    "\n",
    "\n",
    "\n",
    " ### For Loops:\n",
    "\n",
    " For loops are essential control structures in Python used for iterating over sequences such as lists, tuples, strings, and more. They allow us to perform repetitive tasks efficiently by executing a block of code for each item in a sequence. For loops are indispensable for automating tasks like data processing, analysis, and generation. Their simplicity and versatility make them a powerful tool for handling various programming challenges, from simple tasks to complex algorithms. Mastering for loops is crucial for becoming proficient in Python programming.\n",
    "\n",
    "\n",
    "\n",
    " ### Slicing:\n",
    "\n",
    " Slicing is a powerful feature in Python used to extract specific portions of a sequence, such as a list or a string. It allows us to retrieve subsets of data based on their position or index within the sequence. Slicing is invaluable for working with large datasets, as it enables us to focus on relevant sections of the data without needing to process the entire dataset at once. This ability to extract and manipulate subsets of data efficiently is essential for tasks like data analysis, text processing, and more. Understanding slicing is essential for harnessing the full potential of Python's data manipulation capabilities."
   ]
  },
  {
   "cell_type": "markdown",
   "metadata": {},
   "source": [
    "\n",
    "\n",
    "\n",
    "\n",
    " ---\n",
    "\n",
    "\n",
    "\n",
    " # END\n",
    "\n",
    "\n",
    "\n",
    "\n",
    "\n",
    "\n",
    "\n",
    " ---\n",
    "\n",
    "\n",
    "\n"
   ]
  }
 ],
 "metadata": {
  "language_info": {
   "codemirror_mode": {
    "name": "ipython",
    "version": 3
   },
   "file_extension": ".py",
   "mimetype": "text/x-python",
   "name": "python",
   "nbconvert_exporter": "python",
   "pygments_lexer": "ipython3",
   "version": 3
  }
 },
 "nbformat": 4,
 "nbformat_minor": 2
}
